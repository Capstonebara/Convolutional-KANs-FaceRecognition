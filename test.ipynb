{
 "cells": [
  {
   "cell_type": "code",
   "execution_count": 1,
   "metadata": {},
   "outputs": [],
   "source": [
    "import torch\n",
    "from architectures_28x28.KANConvs_MLP import KANC_MLP, KANC_MLP_Medium"
   ]
  },
  {
   "cell_type": "code",
   "execution_count": null,
   "metadata": {},
   "outputs": [
    {
     "name": "stdout",
     "output_type": "stream",
     "text": [
      "Shape before flattening: torch.Size([1, 5, 26, 26])\n",
      "Output shape: torch.Size([1, 512])\n"
     ]
    }
   ],
   "source": [
    "# Instantiate the model\n",
    "model = KANC_MLP(grid_size=10)\n",
    "\n",
    "# Print model architecture\n",
    "# print(model)\n",
    "\n",
    "# Create a sample input tensor of size 122x122x3 (batch size = 1)\n",
    "x = torch.randn(1, 3, 112, 112)  # (batch_size, channels, height, width)\n",
    "\n",
    "# Pass the input tensor through the model\n",
    "output = model(x)\n",
    "\n",
    "# Print the output shape\n",
    "print(\"Output shape:\", output.shape)"
   ]
  },
  {
   "cell_type": "code",
   "execution_count": 2,
   "metadata": {},
   "outputs": [
    {
     "name": "stdout",
     "output_type": "stream",
     "text": [
      "Total parameters: 1736472\n"
     ]
    }
   ],
   "source": [
    "from torchsummary import summary\n",
    "total_params = sum(p.numel() for p in model.parameters())\n",
    "print(f\"Total parameters: {total_params}\")"
   ]
  },
  {
   "cell_type": "code",
   "execution_count": 2,
   "metadata": {},
   "outputs": [
    {
     "name": "stdout",
     "output_type": "stream",
     "text": [
      "Total parameters: 1739847\n"
     ]
    }
   ],
   "source": [
    "model_2 = KANC_MLP_Medium(grid_size=10)\n",
    "total_params = sum(p.numel() for p in model_2.parameters())\n",
    "print(f\"Total parameters: {total_params}\")"
   ]
  },
  {
   "cell_type": "code",
   "execution_count": null,
   "metadata": {},
   "outputs": [],
   "source": []
  }
 ],
 "metadata": {
  "kernelspec": {
   "display_name": "face_recognition",
   "language": "python",
   "name": "python3"
  },
  "language_info": {
   "codemirror_mode": {
    "name": "ipython",
    "version": 3
   },
   "file_extension": ".py",
   "mimetype": "text/x-python",
   "name": "python",
   "nbconvert_exporter": "python",
   "pygments_lexer": "ipython3",
   "version": "3.9.21"
  }
 },
 "nbformat": 4,
 "nbformat_minor": 2
}
